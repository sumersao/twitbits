{
 "cells": [
  {
   "cell_type": "code",
   "execution_count": 1,
   "metadata": {},
   "outputs": [
    {
     "name": "stderr",
     "output_type": "stream",
     "text": [
      "/Users/sumersao/miniconda3/envs/twitbits/lib/python3.8/site-packages/tqdm/auto.py:21: TqdmWarning: IProgress not found. Please update jupyter and ipywidgets. See https://ipywidgets.readthedocs.io/en/stable/user_install.html\n",
      "  from .autonotebook import tqdm as notebook_tqdm\n"
     ]
    }
   ],
   "source": [
    "from transformers import (\n",
    "    AutoTokenizer,\n",
    "    LEDForConditionalGeneration,\n",
    ")\n",
    "from datasets import load_dataset, load_metric\n",
    "import torch\n",
    "\n",
    "\n",
    "from transformers import (\n",
    "    AutoTokenizer,\n",
    "    LEDConfig,\n",
    "    LEDForConditionalGeneration,\n",
    "\n",
    ")"
   ]
  },
  {
   "cell_type": "code",
   "execution_count": 2,
   "metadata": {},
   "outputs": [
    {
     "name": "stderr",
     "output_type": "stream",
     "text": [
      "Found cached dataset multi_news (/Users/sumersao/.cache/huggingface/datasets/multi_news/default/1.0.0/2f1f69a2bedc8ad1c5d8ae5148e4755ee7095f465c1c01ae8f85454342065a72)\n",
      "100%|██████████| 3/3 [00:00<00:00, 107.74it/s]\n"
     ]
    }
   ],
   "source": [
    "dataset=load_dataset('multi_news')"
   ]
  },
  {
   "cell_type": "code",
   "execution_count": 3,
   "metadata": {},
   "outputs": [],
   "source": [
    "from transformers import AutoTokenizer, AutoModelForSeq2SeqLM\n",
    "\n",
    "tokenizer_small = AutoTokenizer.from_pretrained(\"TinaLiHF/fined-tuned-T5small\")\n",
    "model_small = AutoModelForSeq2SeqLM.from_pretrained(\"TinaLiHF/fined-tuned-T5small\")\n",
    "\n",
    "pad_token_id = tokenizer_small.pad_token_id\n",
    "docsep_token_id = tokenizer_small.convert_tokens_to_ids(\"<doc-sep>\")"
   ]
  },
  {
   "cell_type": "code",
   "execution_count": null,
   "metadata": {},
   "outputs": [],
   "source": [
    "\n",
    "def process_document_small(documents):\n",
    "    input_ids_all=[]\n",
    "    for data in documents:\n",
    "        all_docs = data.split(\"|||||\")[:-1]\n",
    "        for i, doc in enumerate(all_docs):\n",
    "            doc = doc.replace(\"\\n\", \" \")\n",
    "            doc = \" \".join(doc.split())\n",
    "            all_docs[i] = doc\n",
    "\n",
    "        #### concat with global attention on doc-sep\n",
    "        input_ids = []\n",
    "        for doc in all_docs:\n",
    "            input_ids.extend(\n",
    "                tokenizer_small.encode(\n",
    "                    doc,\n",
    "                    truncation=True,\n",
    "                    max_length=4096 // len(all_docs),\n",
    "                )[1:-1]\n",
    "            )\n",
    "            input_ids.append(docsep_token_id)\n",
    "        input_ids = (\n",
    "            [tokenizer_small.bos_token_id]\n",
    "            + input_ids\n",
    "            + [tokenizer_small.eos_token_id]\n",
    "        )\n",
    "        input_ids_all.append(torch.tensor(input_ids))\n",
    "    print(input_ids)\n",
    "    # input_ids = torch.nn.utils.rnn.pad_sequence(\n",
    "    #     input_ids_all, batch_first=True, padding_value=pad_token_id\n",
    "    # )\n",
    "    return input_ids\n",
    "\n",
    "\n",
    "def batch_process_small(batch):\n",
    "    input_ids=process_document_small(batch['document'])\n",
    "    print(input_ids.shape)\n",
    "    print(input_ids)\n",
    "    # # get the input ids and attention masks together\n",
    "    # global_attention_mask = torch.zeros_like(input_ids).to(input_ids.device)\n",
    "    # # put global attention on <s> token\n",
    "\n",
    "    # global_attention_mask[:, 0] = 1\n",
    "    # global_attention_mask[input_ids == docsep_token_id] = 1\n",
    "\n",
    "    # generated_ids = model_small.generate(\n",
    "    #     input_ids=input_ids,\n",
    "    #     attention_mask=global_attention_mask,\n",
    "    #     use_cache=True,\n",
    "    #     max_length=1024,\n",
    "    #     num_beams=5,\n",
    "    # )\n",
    "    # generated_str = tokenizer_small.batch_decode(\n",
    "    #         generated_ids.tolist(), skip_special_tokens=True\n",
    "    #     )\n",
    "    # result={}\n",
    "    # result['generated_summaries'] = generated_str\n",
    "    # result['gt_summaries']=batch['summary']\n",
    "    result = {}\n",
    "    return result"
   ]
  },
  {
   "cell_type": "code",
   "execution_count": null,
   "metadata": {},
   "outputs": [],
   "source": [
    "import random\n",
    "data_idx = random.choices(range(len(dataset['test'])),k=10)\n",
    "dataset_small = dataset['test'].select(data_idx)\n",
    "result_small = dataset_small.map(batch_process_small, batched=True, batch_size=2)"
   ]
  }
 ],
 "metadata": {
  "kernelspec": {
   "display_name": "twitbits",
   "language": "python",
   "name": "python3"
  },
  "language_info": {
   "codemirror_mode": {
    "name": "ipython",
    "version": 3
   },
   "file_extension": ".py",
   "mimetype": "text/x-python",
   "name": "python",
   "nbconvert_exporter": "python",
   "pygments_lexer": "ipython3",
   "version": "3.8.16"
  },
  "orig_nbformat": 4
 },
 "nbformat": 4,
 "nbformat_minor": 2
}
