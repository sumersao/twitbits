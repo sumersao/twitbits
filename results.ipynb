{
 "cells": [
  {
   "cell_type": "code",
   "execution_count": 1,
   "metadata": {},
   "outputs": [
    {
     "name": "stderr",
     "output_type": "stream",
     "text": [
      "/Users/sumersao/miniconda3/envs/twitbits/lib/python3.8/site-packages/tqdm/auto.py:21: TqdmWarning: IProgress not found. Please update jupyter and ipywidgets. See https://ipywidgets.readthedocs.io/en/stable/user_install.html\n",
      "  from .autonotebook import tqdm as notebook_tqdm\n"
     ]
    }
   ],
   "source": [
    "import json\n",
    "from datasets import load_metric\n",
    "import os"
   ]
  },
  {
   "cell_type": "code",
   "execution_count": 2,
   "metadata": {},
   "outputs": [
    {
     "name": "stderr",
     "output_type": "stream",
     "text": [
      "/var/folders/m0/l6jpq4w579906wrx6f1v04700000gn/T/ipykernel_45579/4132584981.py:1: FutureWarning: load_metric is deprecated and will be removed in the next major version of datasets. Use 'evaluate.load' instead, from the new library 🤗 Evaluate: https://huggingface.co/docs/evaluate\n",
      "  rouge = load_metric(\"rouge\")\n"
     ]
    }
   ],
   "source": [
    "rouge = load_metric(\"rouge\")"
   ]
  },
  {
   "cell_type": "code",
   "execution_count": 14,
   "metadata": {},
   "outputs": [],
   "source": [
    "filenames = [\"hierarchical_bert_concat_complete.json\", \"hierarchical_bert_one_doc_complete.json\", \n",
    "             \"kmeans_bert_concat_complete.json\", \"kmeans_bert_one_doc_complete.json\", \n",
    "             \"primera_baseline_complete.json\", \"shortenedtext_cohere_summaries.json\"]\n",
    "\n",
    "with open('results/model_perf', 'w') as f:\n",
    "    for filename in filenames:\n",
    "        results = None\n",
    "        with open(\"results/\" + filename) as file:\n",
    "            results = json.load(file)\n",
    "        \n",
    "        generated_summaries = None\n",
    "        gt_summaries = None\n",
    "\n",
    "        if filename == \"shortenedtext_cohere_summaries.json\" or filename == \"primera_baseline_complete.json\":\n",
    "            generated_summaries = [result['generated_summary'] for result in results]\n",
    "            gt_summaries = [result['gt_summary'] for result in results]\n",
    "        else:\n",
    "            generated_summaries = [result['generated_summaries'] for result in results]\n",
    "            gt_summaries = [result['gt_summaries'] for result in results]\n",
    "        \n",
    "        score=rouge.compute(predictions=generated_summaries, references=gt_summaries)\n",
    "\n",
    "        f.write(f\"{filename}\\n\")\n",
    "        f.write(f\"{score['rouge1'].mid}\\n\")\n",
    "        f.write(f\"{score['rouge2'].mid}\\n\")\n",
    "        f.write(f\"{score['rougeL'].mid}\\n\")\n",
    "        f.write(\"\\n\")"
   ]
  },
  {
   "cell_type": "code",
   "execution_count": null,
   "metadata": {},
   "outputs": [],
   "source": []
  }
 ],
 "metadata": {
  "kernelspec": {
   "display_name": "twitbits",
   "language": "python",
   "name": "python3"
  },
  "language_info": {
   "codemirror_mode": {
    "name": "ipython",
    "version": 3
   },
   "file_extension": ".py",
   "mimetype": "text/x-python",
   "name": "python",
   "nbconvert_exporter": "python",
   "pygments_lexer": "ipython3",
   "version": "3.8.16"
  },
  "orig_nbformat": 4
 },
 "nbformat": 4,
 "nbformat_minor": 2
}
