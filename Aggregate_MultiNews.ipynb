{
  "nbformat": 4,
  "nbformat_minor": 0,
  "metadata": {
    "colab": {
      "provenance": [],
      "toc_visible": true
    },
    "kernelspec": {
      "name": "python3",
      "display_name": "Python 3"
    },
    "language_info": {
      "name": "python"
    },
    "widgets": {
      "application/vnd.jupyter.widget-state+json": {
        "bdad177942b24ca49a806f37f073d2eb": {
          "model_module": "@jupyter-widgets/controls",
          "model_name": "HBoxModel",
          "model_module_version": "1.5.0",
          "state": {
            "_dom_classes": [],
            "_model_module": "@jupyter-widgets/controls",
            "_model_module_version": "1.5.0",
            "_model_name": "HBoxModel",
            "_view_count": null,
            "_view_module": "@jupyter-widgets/controls",
            "_view_module_version": "1.5.0",
            "_view_name": "HBoxView",
            "box_style": "",
            "children": [
              "IPY_MODEL_73837146d77346b58a2f4d86623ecce2",
              "IPY_MODEL_2222dd18f1a84e76856e587e2515b4c5",
              "IPY_MODEL_e10898dee3e643cd907b9c6f455cb881"
            ],
            "layout": "IPY_MODEL_d503f7e8d5154d35987ec281f3b4a1d1"
          }
        },
        "73837146d77346b58a2f4d86623ecce2": {
          "model_module": "@jupyter-widgets/controls",
          "model_name": "HTMLModel",
          "model_module_version": "1.5.0",
          "state": {
            "_dom_classes": [],
            "_model_module": "@jupyter-widgets/controls",
            "_model_module_version": "1.5.0",
            "_model_name": "HTMLModel",
            "_view_count": null,
            "_view_module": "@jupyter-widgets/controls",
            "_view_module_version": "1.5.0",
            "_view_name": "HTMLView",
            "description": "",
            "description_tooltip": null,
            "layout": "IPY_MODEL_c703a10141e74d099a26a79b85593385",
            "placeholder": "​",
            "style": "IPY_MODEL_ee31616001d94d57b014c09ce61227f5",
            "value": "100%"
          }
        },
        "2222dd18f1a84e76856e587e2515b4c5": {
          "model_module": "@jupyter-widgets/controls",
          "model_name": "FloatProgressModel",
          "model_module_version": "1.5.0",
          "state": {
            "_dom_classes": [],
            "_model_module": "@jupyter-widgets/controls",
            "_model_module_version": "1.5.0",
            "_model_name": "FloatProgressModel",
            "_view_count": null,
            "_view_module": "@jupyter-widgets/controls",
            "_view_module_version": "1.5.0",
            "_view_name": "ProgressView",
            "bar_style": "success",
            "description": "",
            "description_tooltip": null,
            "layout": "IPY_MODEL_4305bbdc7f9b4cadbe3df102d5d68352",
            "max": 3,
            "min": 0,
            "orientation": "horizontal",
            "style": "IPY_MODEL_abcb334c11f54092a0f82819798adc68",
            "value": 3
          }
        },
        "e10898dee3e643cd907b9c6f455cb881": {
          "model_module": "@jupyter-widgets/controls",
          "model_name": "HTMLModel",
          "model_module_version": "1.5.0",
          "state": {
            "_dom_classes": [],
            "_model_module": "@jupyter-widgets/controls",
            "_model_module_version": "1.5.0",
            "_model_name": "HTMLModel",
            "_view_count": null,
            "_view_module": "@jupyter-widgets/controls",
            "_view_module_version": "1.5.0",
            "_view_name": "HTMLView",
            "description": "",
            "description_tooltip": null,
            "layout": "IPY_MODEL_233b1ef8c70541349040a28169db961b",
            "placeholder": "​",
            "style": "IPY_MODEL_bae2469734ee42eaa279ca303788231b",
            "value": " 3/3 [00:00&lt;00:00, 87.52it/s]"
          }
        },
        "d503f7e8d5154d35987ec281f3b4a1d1": {
          "model_module": "@jupyter-widgets/base",
          "model_name": "LayoutModel",
          "model_module_version": "1.2.0",
          "state": {
            "_model_module": "@jupyter-widgets/base",
            "_model_module_version": "1.2.0",
            "_model_name": "LayoutModel",
            "_view_count": null,
            "_view_module": "@jupyter-widgets/base",
            "_view_module_version": "1.2.0",
            "_view_name": "LayoutView",
            "align_content": null,
            "align_items": null,
            "align_self": null,
            "border": null,
            "bottom": null,
            "display": null,
            "flex": null,
            "flex_flow": null,
            "grid_area": null,
            "grid_auto_columns": null,
            "grid_auto_flow": null,
            "grid_auto_rows": null,
            "grid_column": null,
            "grid_gap": null,
            "grid_row": null,
            "grid_template_areas": null,
            "grid_template_columns": null,
            "grid_template_rows": null,
            "height": null,
            "justify_content": null,
            "justify_items": null,
            "left": null,
            "margin": null,
            "max_height": null,
            "max_width": null,
            "min_height": null,
            "min_width": null,
            "object_fit": null,
            "object_position": null,
            "order": null,
            "overflow": null,
            "overflow_x": null,
            "overflow_y": null,
            "padding": null,
            "right": null,
            "top": null,
            "visibility": null,
            "width": null
          }
        },
        "c703a10141e74d099a26a79b85593385": {
          "model_module": "@jupyter-widgets/base",
          "model_name": "LayoutModel",
          "model_module_version": "1.2.0",
          "state": {
            "_model_module": "@jupyter-widgets/base",
            "_model_module_version": "1.2.0",
            "_model_name": "LayoutModel",
            "_view_count": null,
            "_view_module": "@jupyter-widgets/base",
            "_view_module_version": "1.2.0",
            "_view_name": "LayoutView",
            "align_content": null,
            "align_items": null,
            "align_self": null,
            "border": null,
            "bottom": null,
            "display": null,
            "flex": null,
            "flex_flow": null,
            "grid_area": null,
            "grid_auto_columns": null,
            "grid_auto_flow": null,
            "grid_auto_rows": null,
            "grid_column": null,
            "grid_gap": null,
            "grid_row": null,
            "grid_template_areas": null,
            "grid_template_columns": null,
            "grid_template_rows": null,
            "height": null,
            "justify_content": null,
            "justify_items": null,
            "left": null,
            "margin": null,
            "max_height": null,
            "max_width": null,
            "min_height": null,
            "min_width": null,
            "object_fit": null,
            "object_position": null,
            "order": null,
            "overflow": null,
            "overflow_x": null,
            "overflow_y": null,
            "padding": null,
            "right": null,
            "top": null,
            "visibility": null,
            "width": null
          }
        },
        "ee31616001d94d57b014c09ce61227f5": {
          "model_module": "@jupyter-widgets/controls",
          "model_name": "DescriptionStyleModel",
          "model_module_version": "1.5.0",
          "state": {
            "_model_module": "@jupyter-widgets/controls",
            "_model_module_version": "1.5.0",
            "_model_name": "DescriptionStyleModel",
            "_view_count": null,
            "_view_module": "@jupyter-widgets/base",
            "_view_module_version": "1.2.0",
            "_view_name": "StyleView",
            "description_width": ""
          }
        },
        "4305bbdc7f9b4cadbe3df102d5d68352": {
          "model_module": "@jupyter-widgets/base",
          "model_name": "LayoutModel",
          "model_module_version": "1.2.0",
          "state": {
            "_model_module": "@jupyter-widgets/base",
            "_model_module_version": "1.2.0",
            "_model_name": "LayoutModel",
            "_view_count": null,
            "_view_module": "@jupyter-widgets/base",
            "_view_module_version": "1.2.0",
            "_view_name": "LayoutView",
            "align_content": null,
            "align_items": null,
            "align_self": null,
            "border": null,
            "bottom": null,
            "display": null,
            "flex": null,
            "flex_flow": null,
            "grid_area": null,
            "grid_auto_columns": null,
            "grid_auto_flow": null,
            "grid_auto_rows": null,
            "grid_column": null,
            "grid_gap": null,
            "grid_row": null,
            "grid_template_areas": null,
            "grid_template_columns": null,
            "grid_template_rows": null,
            "height": null,
            "justify_content": null,
            "justify_items": null,
            "left": null,
            "margin": null,
            "max_height": null,
            "max_width": null,
            "min_height": null,
            "min_width": null,
            "object_fit": null,
            "object_position": null,
            "order": null,
            "overflow": null,
            "overflow_x": null,
            "overflow_y": null,
            "padding": null,
            "right": null,
            "top": null,
            "visibility": null,
            "width": null
          }
        },
        "abcb334c11f54092a0f82819798adc68": {
          "model_module": "@jupyter-widgets/controls",
          "model_name": "ProgressStyleModel",
          "model_module_version": "1.5.0",
          "state": {
            "_model_module": "@jupyter-widgets/controls",
            "_model_module_version": "1.5.0",
            "_model_name": "ProgressStyleModel",
            "_view_count": null,
            "_view_module": "@jupyter-widgets/base",
            "_view_module_version": "1.2.0",
            "_view_name": "StyleView",
            "bar_color": null,
            "description_width": ""
          }
        },
        "233b1ef8c70541349040a28169db961b": {
          "model_module": "@jupyter-widgets/base",
          "model_name": "LayoutModel",
          "model_module_version": "1.2.0",
          "state": {
            "_model_module": "@jupyter-widgets/base",
            "_model_module_version": "1.2.0",
            "_model_name": "LayoutModel",
            "_view_count": null,
            "_view_module": "@jupyter-widgets/base",
            "_view_module_version": "1.2.0",
            "_view_name": "LayoutView",
            "align_content": null,
            "align_items": null,
            "align_self": null,
            "border": null,
            "bottom": null,
            "display": null,
            "flex": null,
            "flex_flow": null,
            "grid_area": null,
            "grid_auto_columns": null,
            "grid_auto_flow": null,
            "grid_auto_rows": null,
            "grid_column": null,
            "grid_gap": null,
            "grid_row": null,
            "grid_template_areas": null,
            "grid_template_columns": null,
            "grid_template_rows": null,
            "height": null,
            "justify_content": null,
            "justify_items": null,
            "left": null,
            "margin": null,
            "max_height": null,
            "max_width": null,
            "min_height": null,
            "min_width": null,
            "object_fit": null,
            "object_position": null,
            "order": null,
            "overflow": null,
            "overflow_x": null,
            "overflow_y": null,
            "padding": null,
            "right": null,
            "top": null,
            "visibility": null,
            "width": null
          }
        },
        "bae2469734ee42eaa279ca303788231b": {
          "model_module": "@jupyter-widgets/controls",
          "model_name": "DescriptionStyleModel",
          "model_module_version": "1.5.0",
          "state": {
            "_model_module": "@jupyter-widgets/controls",
            "_model_module_version": "1.5.0",
            "_model_name": "DescriptionStyleModel",
            "_view_count": null,
            "_view_module": "@jupyter-widgets/base",
            "_view_module_version": "1.2.0",
            "_view_name": "StyleView",
            "description_width": ""
          }
        }
      }
    }
  },
  "cells": [
    {
      "cell_type": "markdown",
      "source": [
        "#Setup"
      ],
      "metadata": {
        "id": "i1JuSJZduFZY"
      }
    },
    {
      "cell_type": "code",
      "source": [
        "!pip install transformers\n",
        "!pip install datasets"
      ],
      "metadata": {
        "id": "77EKro-Mc7MG"
      },
      "execution_count": null,
      "outputs": []
    },
    {
      "cell_type": "code",
      "source": [
        "from transformers import (\n",
        "    AutoTokenizer,\n",
        "    LEDForConditionalGeneration,\n",
        ")\n",
        "from datasets import load_dataset, load_metric\n",
        "import torch\n",
        "import random"
      ],
      "metadata": {
        "id": "gMLqUFrk1Tfu"
      },
      "execution_count": null,
      "outputs": []
    },
    {
      "cell_type": "markdown",
      "source": [
        "#Helper Fns"
      ],
      "metadata": {
        "id": "kbglyxc9uROt"
      }
    },
    {
      "cell_type": "code",
      "source": [
        "\"\"\"\n",
        "Called by clean. Listify source documents, clean up summary (remove \"– \" at the beginning)\n",
        "\n",
        "input: single datapoint {'document': String, 'summary': String}\n",
        "output: {'document': List, 'summary': String}\n",
        "\"\"\"\n",
        "def clean_single_dp(datapoint):\n",
        "  docs_str = datapoint['document']\n",
        "  doc_sep = \"|||||\"\n",
        "  doc_list = docs_str.split(\"|||||\") #list of the source documents\n",
        "\n",
        "  sum = datapoint['summary']\n",
        "  summary_clean = sum[2:] #get rid of \"– \" at beginning of each summary\n",
        "\n",
        "  return doc_list, summary_clean"
      ],
      "metadata": {
        "id": "Ai7Tg_MdRBlL"
      },
      "execution_count": null,
      "outputs": []
    },
    {
      "cell_type": "code",
      "source": [
        "\"\"\"\n",
        "Clean each datapoint (listify docs, clean summaries) \n",
        "Create dicitonary where keys are number of source docs, in case we decide to \n",
        "aggregate our data based on #docs (to standardize input size)\n",
        "\n",
        "input: unaugmented multiNews dataset: List of {'document': String, 'summary': String}\n",
        "output: \n",
        "  all_data: List of {'document_list': List, 'clean_summary': String}\n",
        "  numdocs_dict: Dictionary where key = #source docs, value = list of datapoints - \n",
        "                each one is {'document': String, 'summary': String}\n",
        "\"\"\"\n",
        "def clean_orig(data): #takes all data\n",
        "  numdocs_dict = {4: [\"hi\"]} #initialize dictionary in which key = # source docs, value = list of datapoints (dicitonaries)\n",
        "  all_data = []\n",
        "\n",
        "  for point in data:\n",
        "    #augment single point\n",
        "    doc_list, summary_clean = clean_single_dp(point)\n",
        "\n",
        "    #add to all_data\n",
        "    all_data += [{'document_list': doc_list, 'clean_summary': summary_clean}]\n",
        "\n",
        "    #add to numdocs_dict\n",
        "    num_docs = len(doc_list)\n",
        "    if num_docs in numdocs_dict:\n",
        "      numdocs_dict[num_docs] += [{'document_list': doc_list, 'clean_summary': summary_clean}]\n",
        "    else:\n",
        "      numdocs_dict[num_docs] = [{'document_list': doc_list, 'clean_summary': summary_clean}]\n",
        "\n",
        "\n",
        "  return all_data"
      ],
      "metadata": {
        "id": "CPaigJFyTTnb"
      },
      "execution_count": null,
      "outputs": []
    },
    {
      "cell_type": "code",
      "source": [
        "\"\"\"\n",
        "Called by group_data. Aggregate given list of datapoints.\n",
        "\n",
        "input: list of datapoints, each of which is {document_list: [...], clean_summary: \"...\"}\n",
        "output: \n",
        "  combo_documents: list of doc lists\n",
        "  combo_summaries_str: String of combined summaries separated by \\n\\n\n",
        "  combo_summaries_list: list of summaries\n",
        "\"\"\"\n",
        "def combine_points(data_list):\n",
        "\n",
        "  combo_documents = [] #list of lists\n",
        "  combo_summaries_list = [] #list of strings\n",
        "\n",
        "  for point in data_list:\n",
        "    # print(\"point has\", len(point['document_list']), \"sources\")\n",
        "    combo_documents += point['document_list']\n",
        "    combo_summaries_list += [point['clean_summary']]\n",
        "\n",
        "  combo_summaries_str = \"\\n\\n\".join(combo_summaries_list) #string (concatenated summaries separated by a black line)\n",
        "\n",
        "  return combo_documents, combo_summaries_str, combo_summaries_list"
      ],
      "metadata": {
        "id": "FTlADKQGZw4u"
      },
      "execution_count": null,
      "outputs": []
    },
    {
      "cell_type": "code",
      "source": [
        "\"\"\"\n",
        "Randomly partition dataset into groups of GROUP_SIZE, aggregate each group.\n",
        "\n",
        "input: full cleaned dataset - List of {'document_list': List, 'clean_summary': String}\n",
        "output: List of aggregated data {'documents': List, 'summary': String'\n",
        "\"\"\"\n",
        "def group_data(data):\n",
        "  GROUP_SIZE = 3\n",
        "\n",
        "  #partition\n",
        "  random.shuffle(data)\n",
        "  groups = [data[i:i+GROUP_SIZE] for i in range(0, len(data), GROUP_SIZE)]\n",
        "\n",
        "  #if last group is a lonely datapoint, merge it with the previous group\n",
        "  if len(groups[-1]) == 1:\n",
        "    groups[-2] += groups[-1]\n",
        "    groups = groups[:-1]\n",
        "\n",
        "  #aggregate each group\n",
        "  for i in range(len(groups)):\n",
        "    combo_docs, combo_sum_str, combo_sum_list = combine_points(groups[i])\n",
        "    aggregated_group = {'documents': combo_docs, 'summary': combo_sum_str}\n",
        "    groups[i] = aggregated_group\n",
        "\n",
        "  return groups"
      ],
      "metadata": {
        "id": "Hj7KK_xDae-j"
      },
      "execution_count": null,
      "outputs": []
    },
    {
      "cell_type": "code",
      "source": [
        "\"\"\"\n",
        "Compute distribution of #documents i.e. how many datapoints have x docs\n",
        "\n",
        "input: grouped and aggregated dataset - List of {'documents': List, 'summary': String'\n",
        "output: {int: int} key = number of documents, value = number of datapoints with that number of documents\n",
        "\"\"\"\n",
        "def get_group_numdoc_freq(grouped_data):\n",
        "    numdoc_frequency = {}\n",
        "\n",
        "    for data in grouped_data:\n",
        "        num_docs = len(data.get('documents', []))\n",
        "        if num_docs in numdoc_frequency:\n",
        "            numdoc_frequency[num_docs] += 1\n",
        "        else:\n",
        "            numdoc_frequency[num_docs] = 1\n",
        "\n",
        "    print(\"Number of Documents Frequency:\")\n",
        "    for numdocs, frequency in numdoc_frequency.items():\n",
        "        print(f\"#documents {numdocs}: {frequency}\")\n",
        "\n",
        "    return numdoc_frequency"
      ],
      "metadata": {
        "id": "r8EXbJ9cdxcc"
      },
      "execution_count": null,
      "outputs": []
    },
    {
      "cell_type": "markdown",
      "source": [
        "#Dataset Augmentation"
      ],
      "metadata": {
        "id": "D0VnYiHOyZcy"
      }
    },
    {
      "cell_type": "code",
      "source": [
        "dataset= load_dataset('multi_news')"
      ],
      "metadata": {
        "colab": {
          "base_uri": "https://localhost:8080/",
          "height": 87,
          "referenced_widgets": [
            "bdad177942b24ca49a806f37f073d2eb",
            "73837146d77346b58a2f4d86623ecce2",
            "2222dd18f1a84e76856e587e2515b4c5",
            "e10898dee3e643cd907b9c6f455cb881",
            "d503f7e8d5154d35987ec281f3b4a1d1",
            "c703a10141e74d099a26a79b85593385",
            "ee31616001d94d57b014c09ce61227f5",
            "4305bbdc7f9b4cadbe3df102d5d68352",
            "abcb334c11f54092a0f82819798adc68",
            "233b1ef8c70541349040a28169db961b",
            "bae2469734ee42eaa279ca303788231b"
          ]
        },
        "id": "WlyK_cWE73jE",
        "outputId": "81a32232-7776-46cc-9db0-3e31bf81483f"
      },
      "execution_count": null,
      "outputs": [
        {
          "output_type": "stream",
          "name": "stderr",
          "text": [
            "WARNING:datasets.builder:Found cached dataset multi_news (/root/.cache/huggingface/datasets/multi_news/default/1.0.0/2f1f69a2bedc8ad1c5d8ae5148e4755ee7095f465c1c01ae8f85454342065a72)\n"
          ]
        },
        {
          "output_type": "display_data",
          "data": {
            "text/plain": [
              "  0%|          | 0/3 [00:00<?, ?it/s]"
            ],
            "application/vnd.jupyter.widget-view+json": {
              "version_major": 2,
              "version_minor": 0,
              "model_id": "bdad177942b24ca49a806f37f073d2eb"
            }
          },
          "metadata": {}
        }
      ]
    },
    {
      "cell_type": "code",
      "source": [
        "train = list(dataset['train'])\n",
        "val = list(dataset['validation'])\n",
        "test = list(dataset['test'])\n",
        "\n",
        "print(\"Train: \", len(train))\n",
        "print(\"Val: \", len(val))\n",
        "print(\"Test: \", len(test))"
      ],
      "metadata": {
        "colab": {
          "base_uri": "https://localhost:8080/"
        },
        "id": "N-vOUPk675GL",
        "outputId": "ed10405e-6886-41ad-da4f-765913c11ea1"
      },
      "execution_count": null,
      "outputs": [
        {
          "output_type": "stream",
          "name": "stdout",
          "text": [
            "Train:  44972\n",
            "Val:  5622\n",
            "Test:  5622\n"
          ]
        }
      ]
    },
    {
      "cell_type": "code",
      "source": [
        "\"\"\"\n",
        "Full data augmentation process\n",
        "\"\"\"\n",
        "def augment_data(data):\n",
        "  clean_data = clean_orig(data)\n",
        "  augmented_data = group_data(clean_data)\n",
        "  numdoc_freq = get_group_numdoc_freq(augmented_data)\n",
        "  return augmented_data #List of {'documents': List, 'summary': String}"
      ],
      "metadata": {
        "id": "Qo8R6DuQygyR"
      },
      "execution_count": null,
      "outputs": []
    },
    {
      "cell_type": "code",
      "source": [
        "aug_train = augment_data(train)"
      ],
      "metadata": {
        "id": "CfJX9Vq772Xi"
      },
      "execution_count": null,
      "outputs": []
    }
  ]
}