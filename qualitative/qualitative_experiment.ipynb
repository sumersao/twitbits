{
 "cells": [
  {
   "cell_type": "code",
   "execution_count": 2,
   "metadata": {},
   "outputs": [],
   "source": [
    "import random\n",
    "import pandas as pd\n",
    "import json\n",
    "import os"
   ]
  },
  {
   "cell_type": "code",
   "execution_count": 3,
   "metadata": {},
   "outputs": [],
   "source": [
    "'''\n",
    "Load dataset .json files (baseline, best, cohere). \n",
    "'''\n",
    "\n",
    "baseline_path = '../results/primera_baseline_complete.json'\n",
    "best_cluster_path = '../../kmeans_bert_concat_complete.json' # replace with path of best performing clustering/summarizing method\n",
    "cohere_path = '../results/shortenedtext_cohere_summaries.json'\n",
    "\n",
    "with open(baseline_path) as file:\n",
    "    baseline = json.load(file)\n",
    "\n",
    "with open(best_cluster_path) as file:\n",
    "    best_cluster = json.load(file)\n",
    "\n",
    "with open(cohere_path) as file:\n",
    "    cohere = json.load(file)"
   ]
  },
  {
   "cell_type": "code",
   "execution_count": null,
   "metadata": {},
   "outputs": [],
   "source": [
    "'''\n",
    "Grabbing random index of generated summaries for testing purposes.\n",
    "'''\n",
    "'''\n",
    "print('baseline summary: ')\n",
    "print(baseline[8]['generated_summary'])\n",
    "print()\n",
    "\n",
    "print('generated summary: ')\n",
    "print(best_cluster[8]['generated_summaries'])\n",
    "print()\n",
    "\n",
    "print('cohere summary: ')\n",
    "print(cohere[8]['generated_summary'])\n",
    "print()\n",
    "\n",
    "print('ground truth summary: ')\n",
    "print(cohere[8]['gt_summary'])\n",
    "'''"
   ]
  },
  {
   "cell_type": "code",
   "execution_count": 4,
   "metadata": {},
   "outputs": [
    {
     "name": "stdout",
     "output_type": "stream",
     "text": [
      "[98, 178, 6, 147, 175, 61, 25, 14, 110, 176, 194, 105, 132, 18, 102, 92, 192, 182, 161, 187]\n"
     ]
    }
   ],
   "source": [
    "'''\n",
    "From list of random 200 indices, pick random n = 20 to do qualitative analysis on.\n",
    "'''\n",
    "\n",
    "df_indices = pd.read_csv('../cohere_sample_indices.csv')\n",
    "sample_indices = df_indices['Indices'].values.tolist()\n",
    "\n",
    "num_eval = 20\n",
    "sample_indices = random.sample(range(len(sample_indices)), num_eval)\n",
    "print(sample_indices)"
   ]
  },
  {
   "cell_type": "code",
   "execution_count": 5,
   "metadata": {},
   "outputs": [],
   "source": [
    "'''\n",
    "Get generated summaries of randomly selected samples from each dataset. Organize into dictionary.\n",
    "'''\n",
    "assert len(sample_indices) == 20, \"Sample indices is not of length 20.\"\n",
    "\n",
    "generated_summaries = []\n",
    "\n",
    "for index in sample_indices:\n",
    "    generated_summary = {}\n",
    "    \n",
    "    baseline_summary = baseline[index]['generated_summary']\n",
    "    best_summary = best_cluster[index]['generated_summaries']\n",
    "    cohere_summary = cohere[index]['generated_summary']\n",
    "    gold_summary = cohere[index]['gt_summary']\n",
    "\n",
    "    generated_summary['gold'] = cohere[index]['gt_summary']\n",
    "    generated_summary['baseline'] = baseline[index]['generated_summary']\n",
    "    generated_summary['best'] = best_cluster[index]['generated_summaries']\n",
    "    generated_summary['cohere'] = cohere[index]['generated_summary']\n",
    "\n",
    "    generated_summaries.append(generated_summary)\n",
    "\n",
    "\n",
    "#generated_summaries[3]\n",
    "\n"
   ]
  },
  {
   "cell_type": "code",
   "execution_count": 6,
   "metadata": {},
   "outputs": [
    {
     "name": "stdout",
     "output_type": "stream",
     "text": [
      "Starting qualitative experiment.\n",
      "\n",
      "Summary: \n",
      "\"Giving permission to shoot a strongly protected animal without a clear potential threat is a criminal offence,” Chris Heinrich, a WWF board member said in a statement which explained why they decided to file charges against the head of a public order office in Brandenburg.                                   “After more than 250 years a wild bison had been spotted again in Germany and all the authorities could think to do is shoot it.” �                  Heinrich blamed a “lack of professionally trained staff in the area”. he added that \"the state of Brandenburg has proven itself to be less than professional in its treatment of wild animals in the past, as shown by how it deals with wolves and elk.\" =-=-=-=-=-=-=-=-=-=-=-=-=-=-=- 𝖊𝖆𝖗𝖎� Witnesses recorded an incident where a white woman called the police on a black father who was coaching his son from the sidelines.Police found no wrongdoing and did not detain the father.It is the latest in a string of occurrences where white people have called 911 on black people who have done nothing wrong.. A woman seen in a viral video calling the police on a group of black people who were barbecuing at an Oakland park has been identified as a Stanford University-educated environmental scientist.Jennifer Schulte, who has become known on social media as “BBQ Becky,” was identified by The Root and News One.Schulte could not be reached for comment about the video by Heavy and has not spoken out about the incident.The story went viral after Snider and her husband, Kenzie Smith, talked to KRON-TV on May 9.She said a woman in a golf cart at the game in St. Johns County told a black father that \"harassment won't be tolerated,\" even though he had been directing his son to listen to the referee.The father informed the marshal that he was only speaking\n",
      "\n",
      "Summary: \n",
      "A white woman in Florida has been accused of racial profiling after she called the police on a black father coaching his son from the sidelines of a youth soccer game. The woman, who was filming the game, is heard in the video saying \"I'm going to be recording this. I'm going to be recording this.\" The father, who is also heard in the video, says \"What are you recording? You're recording the field. You're recording the field.\" The woman responds, \"I'm recording you.\" The father then says \"You're profiling me because I'm black.\" The woman then says \"I'm not profiling you because you're black. I'm profiling you because you're recording me.\n",
      "\n",
      "Summary: \n",
      "A woman seen in a viral video calling the police on a group of black people who were barbecuing at an Oakland park has been identified as a Stanford University-educated environmental scientist.Jennifer Schulte, who has become known on social media as “BBQ Becky,” was identified by The Root and News One, and has not spoken out about the incident.It marks a significant discovery from the early Hellenistic era, although a Culture Ministry official said there was no evidence yet to suggest a link to Alexander the Great, who died in 323 B.C. after an unprecedented military campaign through the Middle East, Asia and northeast Africa, or his family.Her fellow royals were traditionally interred in a cemetery near Vergina, far to the west, where the lavishly furnished tomb of Alexander's father, Philip II, was discovered in the 1970s.But archaeologists believe the apparently unlooted Amphipolis grave, which is surrounded by a surprisingly long and well-built wall with courses of marble decorations, may have belonged to a senior ancient official.According to Polish authorities, the animal was probably a bull which had been running around the Ujście Warty National Park on the German-Polish border for some time before wandering into the Bundesrepublik.A man had spotted the European bison next to the river Oder near the town of Lebus on Wednesday and alerted the authorities, according to police.The head of the local public order office decided that the bison needed to be killed in order to protect the population and instructed two local hunters to kill the beast on Thursday.The incident occurred amid a string of viral incidents in which white people called police on people of color for controversial reasons, including a white Starbucks manager who called the police onto two men who were waiting for a business meeting.The story went viral after Snider and her husband, Kenzie Smith, talked to KRON-TV on May 9.Schulte was evaluated for an involuntary psychiatric hold by police.She has not yet responded to requests for comment from NBC News.The video was posted on YouTube by Michelle Snider on Sunday with the heading \"Soccer While Black.\"She said a woman in a golf cart at the game in St. Johns County told a black father that \"harassment won't be tolerated,\" even though he had been directing his son to listen to the referee.The father, whose identity has not been revealed, began to leave in an effort to defuse the situation, Williams\n",
      "\n",
      "Summary: \n",
      "- We've had \"Cornerstone Caroline,\" \"Pool Patrol Paula,\" and \"BBQ Becky.\" Now: \"Golfcart Gail.\" That's the nickname given by Ginger Williams to a woman she says was at her son's soccer game in Ponte Vedra, Fla., this weekend, harassing a black dad cheering his son on. Williams' Sunday Facebook post—titled \"Soccer While Black\"—shows a pic of the unnamed woman, on her phone in a golf cart, allegedly making a call about a man Williams says was simply shouting out instructions to his son. The dad simply \"yelled 'The ref is right' when he saw his kid out there getting frustrated after a call,\" Williams notes. That apparently set \"Gail\" off, and she told the dad \"harassment won't be tolerated\" and \"continued to harass and beleaguer him.\" NBC News explains talking to the ref in a game isn't permitted, but Williams writes the man explained he was talking to his own son. He finally offered to just leave to defuse the situation, Williams adds, at which point \"Golfcart Gail\" said she was still calling the cops \"because she no longer felt safe with his threatening behavior.\" (NBC News also has some video.) A rep for the St. Johns County Sheriff's Office says the woman in the golf cart is an athletic association field marshal, and the head of that group says the cops were called not just because of that dad, \"but as a result of a culmination of several immediate prior incidents\" at the game, including a mom who was cursing and another dad who'd been ejected for being verbally abusive, per WTLV. Deputies didn't detain the father from Williams' post, IDed as Gerald Jones. He's not so sure it wasn't a racially spurred incident and says the field marshal and the soccer club owe him an apology, reports WTLV. (Remember \"Permit Patty\"?)\n",
      "\n",
      "Conservationists are expressing outrage after an official in Germany ordered hunters to shoot the first wild bison seen in the country in more than two centuries. Calling the killing a criminal offense, the World Wildlife Fund says it will file charges against the official who gave the order, the Local reports. “After more than 250 years a wild bison had been spotted again in Germany and all the authorities could think to do is shoot it,\" says Chris Heinrich, a WWF board member. The bison was seen by the river Oder near the eastern town of Lebus on Wednesday. Thinking the beast was a threat to public safety, a local official sent a pair of hunters to take care of it. It was unclear if any of them knew the European bison is classed as a \"vulnerable\" species and on Germany’s list of \"strongly protected animals.\" The victim was likely a bull that had wandered across the border from Poland from its home in a national park. While they may be the continent's largest land mammals, weighing up to 2,200 pounds, the bison are not considered dangerous. If they were, says the local environmental minister, then \"half of Poland, where the animal is a national symbol, would have to be declared a danger zone.\" Hunted to near extinction in Europe in the early 20th century, the bison are making a comeback thanks to conservationists, with more than 1,200 now roaming around Poland, per the Telegraph, which published a video showing bison fleeing, then standing up to, a pack of wolves. (The US bison is the country's first national mammal.)\n",
      "\n",
      "Archaeologists in Greece are nearly ready to enter what they say is the biggest ancient tomb ever unearthed in the country. The tomb at the ancient site of Amphipolis in the Macedonia region, around 65 miles northeast of Thessaloniki, dates from around 300 BC—the time of Alexander the Great, though experts don't believe it belongs to the warrior-king, who died in what is now Iraq, the Telegraph reports. Two carved sphinxes flank the entrance to the tomb, which is surrounded by a 540-yard marble outer wall. \"It looks like the tomb of a prominent Macedonian of that era,\" a culture ministry official tells Reuters. Archaeologists have spent the last couple years excavating the ancient burial mound under which the tomb was found, and they plan to enter the tomb within the next two weeks, reports NBC, which adds that there is one clue to its possible occupant: Researchers believe a 16-foot stone lion unearthed in the area a century ago and associated with Laomedon of Mytilene, one of Alexander the Great's military commanders, once stood atop the tomb. (Click to read about an \"evil eye\" box uncovered in an ancient cemetery.)\n",
      "\n",
      "Order: best, cohere, baseline, gold\n",
      "Summary: \n",
      "ā́ ́ф ̄ The briefing came just hours after the U.K.’s Prime Minister Theresa May called on the Trump administration to “immediately cease and desist the use of chemical weapons in Syria.” The U.S. has been considering military action against Syria since a chemical-weapons attack killed more than 80 people in a Damascus suburb on April 4.. ̅ ̏ ̿ The White House said in a statement that the briefing “reaffirmed for me that a decisive and consequential United States response is justified and warranted to protect Syrians, as well as to send a global message that chemical weapons attacks in violation of international law will not stand.\". Starting in 1996, Alexa Internet has been donating their crawl data to the Internet Archive. Flowing in every day, these data are added to the Wayback Machine after an embargo period. A game of paintball had an unfortunate ending when a teen in England wound up needing liver surgery after being struck in the abdomen, according to a new report of the young man's case.                                   The 18-year-old went to the emergency room in August 2015 because of abdominal pain and a low-grade fever, said Dr. Joshua Luck, a resident surgeon at North Middlesex University Hospital in London, who treated the patient and is the lead author of the case report.  fixme                  Police had contact with the Zawahri in 2006, but because he was a juvenile, authorities couldn't release further information, Santa Monica Police Chief Jacqueline Seabrooks said. ¯¯¯¯                  A law enforcement source with knowledge of the investigation told CNN on Saturday that the gunman had suffered from mental health issues.A\n",
      "\n",
      "Summary: \n",
      "- When an 18-year-old arrived at a London emergency room with severe abdominal pain, no appetite, and a fever, doctors recognized the symptoms of appendicitis and scheduled an emergency surgery. They were in for a shock. Once the teen had been cut open, doctors at North Middlesex University Hospital were \"very surprised to see blood coming from the liver,\" while his appendix seemed just fine, Dr. Joshua Luck tells Live Science. They were so surprised, in fact, that they thought they might have nicked a blood vessel. What the teen had failed to mention: Two days earlier he'd been hit in the abdomen by two paintballs during his first attempt at the sport, reports ABC News. Though the paintballs—which can travel up to 300 feet per second—didn't leave a bruise near his liver, it's not uncommon for \"seemingly innocuous events to cause internal injuries,\" Luck says. The August 2015 incident \"represents the first report of paintball-related blunt traumatic injury to the liver,\" researchers explain in BMJ Case Reports. While eye injuries are from paintball are \"well recognized,\" solid organ damage from paintballs has only been reported in three prior cases: one involving the kidney and two involving the penis/scrotum. Doctors were able to stop the bleeding and confirmed weeks later that the teen's liver was functioning well. \"Whether he'll try (paintball) again is yet to be decided,\" Luck says. (This guy burst his bladder in an odd way.)\n",
      "\n",
      "The death toll in Friday's Santa Monica shooting spree has risen to five victims, with 26-year-old Marcela Franco passing away in the hospital today, CNN reports. Franco was taken to the hospital in critical condition after she and her father, Carlos Navarro Franco, 68, were shot on the campus of Santa Monica College. Her father, who the Los Angeles Times reports worked for the college as a groundskeeper, died at the scene. The two were reportedly on their way to buy books for Marcela's summer classes when the gunman, IDed as John Zawahri, shot at their Ford Explorer. \"Her family was with her by her side,\" said the college president in a message to the school community. \"Our deepest sympathies go to the Franco family. At the appropriate time, the College will convene a campus-wide memorial.\" Click for early thoughts on Zawahri's motive.\n",
      "\n",
      "The specifics of President Obama's plans for Syria don't seem much clearer after a conference call with Congressional leaders. The call didn't include information on when a strike would occur, Politico notes, nor did it appear to sway lawmakers who had doubts about military action. During the call, which involved top officials including John Kerry, Chuck Hagel, and Susan Rice, the administration discussed an intercepted phone call it called proof the Syrian government used chemical weapons, the Wall Street Journal reports—though the call doesn't directly implicate Bashar al-Assad, the New York Times notes. The White House's goal is \"preventing Assad from using chemical weapons again,\" a Democratic aide said. As to the British vote against using force, the administration said that \"the president will make a decision based on what is best for the US and not what other countries would do,\" said Rep. Eliot Engel, the top Democrat on the House Foreign Affairs Committee. \"I don't think the UK ought to have a veto on what the US does or doesn't do.\" Officials said Obama still hadn't settled on a course of action—but the Times says \"all indications\" suggest a strike on the heels of the UN's departure from Damascus tomorrow. But we may know more soon: A senior administration official tells CNN the administration will today release declassified intelligence supporting the claim that the Syrian regime launched a chemical attack.\n",
      "\n",
      "Summary: \n",
      "The Obama administration presented its case for possible military action against Syria to congressional leaders, including evidence from an intercepted phone call involving a high-level Syrian official, which a lawmaker said officials offered as proof of a government chemical-weapons attack. The call appears to have done little to change any minds, as the administration's request for authorization to use force against Syria has been opposed by the majority of the House and Senate. The administration has said that it will not act without a vote from Congress.\n",
      "\n",
      "Summary: \n",
      "A game of paintball had an unfortunate ending when a teen in England wound up needing liver surgery after being struck in the abdomen, according to a new report of the young man's case.                                   The injury was the first instance of a person suffering liver damage from playing paintball, the doctors who treated the teen wrote in their report of his case, published May 5 in the journal BMJ Case Reports. � � The 18-year-old went to the emergency room in August 2015 because of abdominal pain and a low-grade fever, said Dr. Joshua Luck, a resident surgeon at North Middlesex University Hospital in London, who is the lead author of the case report..\n",
      "\n"
     ]
    }
   ],
   "source": [
    "'''\n",
    "Qualitative experiment system. \n",
    "For each sample, prints gold summary, then baseline/best/cohere summaries in random order. User is then able to rank the 4 summaries blindly.\n",
    "When user types 'continue', the labels are displayed in order for data collection. \n",
    "Whe user types 'next', we continue to the next sample. Goes through a total of n = 20 samples for experiment completion.\n",
    "'''\n",
    "\n",
    "print('Starting qualitative experiment.')\n",
    "print()\n",
    "\n",
    "for generated_summary in generated_summaries:\n",
    "\n",
    "    # First clear terminal screen\n",
    "    os.system('cls' if os.name == 'nt' else 'clear')\n",
    "\n",
    "    # Then print ground truth label\n",
    "    print('Ground Truth Summary: ') \n",
    "    print(generated_summary['gold'])\n",
    "    print()\n",
    "\n",
    "    # Then print baseline/best/cohere summaries in random order\n",
    "    order = random.sample(['baseline', 'best', 'cohere'], 3)\n",
    "    \n",
    "    for item in order:\n",
    "        print('Summary: ')\n",
    "        print(generated_summary[item])\n",
    "        print()\n",
    "    \n",
    "    # Pause until 'continue' is entered (to get labeled order of current sample)\n",
    "    user_input = input(\"Type 'continue' to proceed: \")\n",
    "    while user_input.lower() != 'continue':\n",
    "        user_input = input(\"Type 'continue' to proceed: \")\n",
    "\n",
    "    # Print the order of the generated summaries\n",
    "    print(\"Order:\", \", \".join(order))\n",
    "\n",
    "    # Pause until 'continue' is entered (to proceed to next sample)\n",
    "    user_input = input(\"Type 'next' to proceed: \")\n",
    "    while user_input.lower() != 'next':\n",
    "        user_input = input(\"Type 'next' to proceed: \")\n",
    "\n",
    "print('Qualitative experiment complete.')"
   ]
  }
 ],
 "metadata": {
  "kernelspec": {
   "display_name": "twitbits",
   "language": "python",
   "name": "python3"
  },
  "language_info": {
   "codemirror_mode": {
    "name": "ipython",
    "version": 3
   },
   "file_extension": ".py",
   "mimetype": "text/x-python",
   "name": "python",
   "nbconvert_exporter": "python",
   "pygments_lexer": "ipython3",
   "version": "3.8.16"
  },
  "orig_nbformat": 4,
  "vscode": {
   "interpreter": {
    "hash": "f2393bc5b12ba71b8b3f7080c5886c93ed036478f03f3d3bfe3eaf6a03080c80"
   }
  }
 },
 "nbformat": 4,
 "nbformat_minor": 2
}
