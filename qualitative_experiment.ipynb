{
 "cells": [
  {
   "cell_type": "code",
   "execution_count": 1,
   "metadata": {},
   "outputs": [],
   "source": [
    "import random\n",
    "import pandas as pd\n",
    "import json"
   ]
  },
  {
   "cell_type": "code",
   "execution_count": 67,
   "metadata": {},
   "outputs": [],
   "source": [
    "'''\n",
    "Load dataset .json files (baseline, best, cohere). \n",
    "'''\n",
    "\n",
    "baseline_path = 'results/primera_baseline_complete.json'\n",
    "best_cluster_path = '../kmeans_bert_concat_complete.json' # replace with path of best performing clustering/summarizing method\n",
    "cohere_path = 'results/shortenedtext_cohere_summaries.json'\n",
    "\n",
    "with open(baseline_path) as file:\n",
    "    baseline = json.load(file)\n",
    "\n",
    "with open(best_cluster_path) as file:\n",
    "    best_cluster = json.load(file)\n",
    "\n",
    "with open(cohere_path) as file:\n",
    "    cohere = json.load(file)"
   ]
  },
  {
   "cell_type": "code",
   "execution_count": null,
   "metadata": {},
   "outputs": [],
   "source": [
    "'''\n",
    "Grabbing random index of generated summaries for testing purposes.\n",
    "'''\n",
    "'''\n",
    "print('baseline summary: ')\n",
    "print(baseline[8]['generated_summary'])\n",
    "print()\n",
    "\n",
    "print('generated summary: ')\n",
    "print(best_cluster[8]['generated_summaries'])\n",
    "print()\n",
    "\n",
    "print('cohere summary: ')\n",
    "print(cohere[8]['generated_summary'])\n",
    "print()\n",
    "\n",
    "print('ground truth summary: ')\n",
    "print(cohere[8]['gt_summary'])\n",
    "'''"
   ]
  },
  {
   "cell_type": "code",
   "execution_count": 72,
   "metadata": {},
   "outputs": [
    {
     "name": "stdout",
     "output_type": "stream",
     "text": [
      "[93, 91, 187, 86, 3, 132, 79, 112, 57, 161, 72, 149, 130, 105, 56, 170, 26, 70, 58, 80]\n"
     ]
    }
   ],
   "source": [
    "'''\n",
    "From list of random 200 indices, pick random n = 20 to do qualitative analysis on.\n",
    "'''\n",
    "\n",
    "df_indices = pd.read_csv('cohere_sample_indices.csv')\n",
    "sample_indices = df_indices['Indices'].values.tolist()\n",
    "\n",
    "num_eval = 20\n",
    "sample_indices = random.sample(range(len(sample_indices)), num_eval)\n",
    "print(sample_indices)"
   ]
  },
  {
   "cell_type": "code",
   "execution_count": null,
   "metadata": {},
   "outputs": [],
   "source": [
    "'''\n",
    "Get generated summaries of randomly selected samples from each dataset. Organize into dictionary.\n",
    "'''\n",
    "assert len(sample_indices) == 20, \"Sample indices is not of length 20.\"\n",
    "\n",
    "generated_summaries = []\n",
    "\n",
    "for index in sample_indices:\n",
    "    generated_summary = {}\n",
    "    \n",
    "    baseline_summary = baseline[index]['generated_summary']\n",
    "    best_summary = best_cluster[index]['generated_summaries']\n",
    "    cohere_summary = cohere[index]['generated_summary']\n",
    "    gold_summary = cohere[index]['gt_summary']\n",
    "\n",
    "    generated_summary['gold'] = cohere[index]['gt_summary']\n",
    "    generated_summary['baseline'] = baseline[index]['generated_summary']\n",
    "    generated_summary['best'] = best_cluster[index]['generated_summaries']\n",
    "    generated_summary['cohere'] = cohere[index]['generated_summary']\n",
    "\n",
    "    generated_summaries.append(generated_summary)\n",
    "\n",
    "\n",
    "generated_summaries[3]\n",
    "\n"
   ]
  },
  {
   "cell_type": "code",
   "execution_count": 1,
   "metadata": {},
   "outputs": [
    {
     "name": "stdout",
     "output_type": "stream",
     "text": [
      "Starting qualitative experiment.\n",
      "\n"
     ]
    },
    {
     "ename": "NameError",
     "evalue": "name 'generated_summaries' is not defined",
     "output_type": "error",
     "traceback": [
      "\u001b[0;31m---------------------------------------------------------------------------\u001b[0m",
      "\u001b[0;31mNameError\u001b[0m                                 Traceback (most recent call last)",
      "Cell \u001b[0;32mIn[1], line 11\u001b[0m\n\u001b[1;32m      8\u001b[0m \u001b[39mprint\u001b[39m(\u001b[39m'\u001b[39m\u001b[39mStarting qualitative experiment.\u001b[39m\u001b[39m'\u001b[39m)\n\u001b[1;32m      9\u001b[0m \u001b[39mprint\u001b[39m()\n\u001b[0;32m---> 11\u001b[0m \u001b[39mfor\u001b[39;00m generated_summary \u001b[39min\u001b[39;00m generated_summaries:\n\u001b[1;32m     12\u001b[0m     order \u001b[39m=\u001b[39m random\u001b[39m.\u001b[39msample([\u001b[39m'\u001b[39m\u001b[39mgold\u001b[39m\u001b[39m'\u001b[39m, \u001b[39m'\u001b[39m\u001b[39mbaseline\u001b[39m\u001b[39m'\u001b[39m, \u001b[39m'\u001b[39m\u001b[39mbest\u001b[39m\u001b[39m'\u001b[39m, \u001b[39m'\u001b[39m\u001b[39mcohere\u001b[39m\u001b[39m'\u001b[39m], \u001b[39m4\u001b[39m)\n\u001b[1;32m     14\u001b[0m     \u001b[39mfor\u001b[39;00m item \u001b[39min\u001b[39;00m order:\n",
      "\u001b[0;31mNameError\u001b[0m: name 'generated_summaries' is not defined"
     ]
    }
   ],
   "source": [
    "'''\n",
    "Qualitative experiment system. \n",
    "For each sample, prints gold/baseline/best/cohere summaries in random order. User is then able to rank the 4 summaries blindly.\n",
    "When user types 'continue', the labels are displayed in order for data collection. \n",
    "Whe user types 'next', we continue to the next sample. Goes through a total of n = 20 samples for experiment completion.\n",
    "'''\n",
    "\n",
    "print('Starting qualitative experiment.')\n",
    "print()\n",
    "\n",
    "for generated_summary in generated_summaries:\n",
    "    order = random.sample(['gold', 'baseline', 'best', 'cohere'], 4)\n",
    "    \n",
    "    for item in order:\n",
    "        print('Summary: ')\n",
    "        print(generated_summary[item])\n",
    "        print()\n",
    "    \n",
    "    # Pause until 'continue' is entered (to get labeled order of current sample)\n",
    "    user_input = input(\"Type 'continue' to proceed: \")\n",
    "    while user_input.lower() != 'continue':\n",
    "        user_input = input(\"Type 'continue' to proceed: \")\n",
    "\n",
    "    # Print the order of the generated summaries\n",
    "    print(\"Order:\", \", \".join(order))\n",
    "\n",
    "    # Pause until 'continue' is entered (to proceed to next sample)\n",
    "    user_input = input(\"Type 'next' to proceed: \")\n",
    "    while user_input.lower() != 'next':\n",
    "        user_input = input(\"Type 'next' to proceed: \")\n",
    "\n",
    "print('Qualitative experiment complete.')"
   ]
  }
 ],
 "metadata": {
  "kernelspec": {
   "display_name": "twitbits",
   "language": "python",
   "name": "python3"
  },
  "language_info": {
   "codemirror_mode": {
    "name": "ipython",
    "version": 3
   },
   "file_extension": ".py",
   "mimetype": "text/x-python",
   "name": "python",
   "nbconvert_exporter": "python",
   "pygments_lexer": "ipython3",
   "version": "3.8.16"
  },
  "orig_nbformat": 4,
  "vscode": {
   "interpreter": {
    "hash": "f2393bc5b12ba71b8b3f7080c5886c93ed036478f03f3d3bfe3eaf6a03080c80"
   }
  }
 },
 "nbformat": 4,
 "nbformat_minor": 2
}
